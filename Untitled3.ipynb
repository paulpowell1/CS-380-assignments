{
 "cells": [
  {
   "cell_type": "code",
   "execution_count": 6,
   "metadata": {},
   "outputs": [
    {
     "name": "stdout",
     "output_type": "stream",
     "text": [
      "ehllo\n"
     ]
    }
   ],
   "source": [
    "a = 'hello'\n",
    "a = ''.join(sorted(a))\n",
    "print (a)"
   ]
  },
  {
   "cell_type": "code",
   "execution_count": 7,
   "metadata": {},
   "outputs": [
    {
     "name": "stdout",
     "output_type": "stream",
     "text": [
      "Please enter a word: asdf\n",
      "adsf\n"
     ]
    }
   ],
   "source": [
    "import random\n",
    "\n",
    "def main():\n",
    "    word = input(\"Please enter a word: \")\n",
    "    print(scramble(word)) \n",
    "\n",
    "def scramble(word):\n",
    "    char1 = random.randint(1, len(word)-2)\n",
    "    char2 = random.randint(1, len(word)-2)\n",
    "    while char1 == char2:\n",
    "        char2 = random.randint(1, len(word)-2)\n",
    "    newWord = \"\"\n",
    "\n",
    "    for i in range(len(word)):\n",
    "        if i == char1:\n",
    "            newWord = newWord + word[char2]\n",
    "        elif i == char2:\n",
    "            newWord = newWord + word[char1]\n",
    "\n",
    "        else:\n",
    "\n",
    "            newWord = newWord + word[i]\n",
    "\n",
    "    return newWord\n",
    "\n",
    "main()"
   ]
  },
  {
   "cell_type": "code",
   "execution_count": 8,
   "metadata": {},
   "outputs": [
    {
     "name": "stdout",
     "output_type": "stream",
     "text": [
      "16\n",
      "ZieglersGiantBar\n",
      "16\n",
      "ZieglersGiantBar\n"
     ]
    }
   ],
   "source": [
    "# Python program to illustrate \n",
    "# counting number of alphabets  \n",
    "# using isalpha() \n",
    "  \n",
    "# Given string \n",
    "string='Ziegler\\'s Giant Bar'\n",
    "count=0\n",
    "  \n",
    "# Initialising new strings \n",
    "newstring1 =\"\" \n",
    "newstring2 =\"\" \n",
    "  \n",
    "# Iterating the string and checking for alphabets \n",
    "# Incrementing the counter if an alphabet is found \n",
    "# Finally printing the count \n",
    "for a in string: \n",
    "    if (a.isalpha()) == True: \n",
    "        count+=1\n",
    "        newstring1+=a \n",
    "print(count) \n",
    "print(newstring1) \n",
    "  \n",
    "#Given string \n",
    "string='Ziegler\\'s Giant Bar'\n",
    "count=0\n",
    "for a in string: \n",
    "    if (a.isalpha()) == True: \n",
    "        count+=1\n",
    "        newstring2+=a \n",
    "print(count) \n",
    "print(newstring2) "
   ]
  },
  {
   "cell_type": "code",
   "execution_count": 9,
   "metadata": {},
   "outputs": [
    {
     "name": "stdout",
     "output_type": "stream",
     "text": [
      "code practice quiz geeks\n"
     ]
    }
   ],
   "source": [
    "# Function to reverse words of string  \n",
    "  \n",
    "def rev_sentence(sentence):  \n",
    "  \n",
    "    # first split the string into words  \n",
    "    words = sentence.split(' ')  \n",
    "  \n",
    "    # then reverse the split string list and join using space  \n",
    "    reverse_sentence = ' '.join(reversed(words))  \n",
    "  \n",
    "    # finally return the joined string  \n",
    "    return reverse_sentence  \n",
    "  \n",
    "if __name__ == \"__main__\":  \n",
    "    input = 'geeks quiz practice code'\n",
    "    print (rev_sentence(input)) "
   ]
  },
  {
   "cell_type": "code",
   "execution_count": 10,
   "metadata": {},
   "outputs": [
    {
     "ename": "ModuleNotFoundError",
     "evalue": "No module named 'myDict'",
     "output_type": "error",
     "traceback": [
      "\u001b[1;31m---------------------------------------------------------------------------\u001b[0m",
      "\u001b[1;31mModuleNotFoundError\u001b[0m                       Traceback (most recent call last)",
      "\u001b[1;32m<ipython-input-10-661c30bbe1ce>\u001b[0m in \u001b[0;36m<module>\u001b[1;34m\u001b[0m\n\u001b[1;32m----> 1\u001b[1;33m \u001b[1;32mimport\u001b[0m \u001b[0mmyDict\u001b[0m\u001b[1;33m\u001b[0m\u001b[1;33m\u001b[0m\u001b[0m\n\u001b[0m\u001b[0;32m      2\u001b[0m \u001b[0mprint\u001b[0m \u001b[1;33m(\u001b[0m\u001b[0mmyDict\u001b[0m\u001b[1;33m.\u001b[0m\u001b[0mairportCode\u001b[0m\u001b[1;33m)\u001b[0m\u001b[1;33m\u001b[0m\u001b[1;33m\u001b[0m\u001b[0m\n",
      "\u001b[1;31mModuleNotFoundError\u001b[0m: No module named 'myDict'"
     ]
    }
   ],
   "source": [
    "import myDict\n",
    "print (myDict.airportCode)"
   ]
  },
  {
   "cell_type": "code",
   "execution_count": 14,
   "metadata": {},
   "outputs": [
    {
     "ename": "NameError",
     "evalue": "name 'xrange' is not defined",
     "output_type": "error",
     "traceback": [
      "\u001b[1;31m---------------------------------------------------------------------------\u001b[0m",
      "\u001b[1;31mNameError\u001b[0m                                 Traceback (most recent call last)",
      "\u001b[1;32m<ipython-input-14-3e72188fe912>\u001b[0m in \u001b[0;36m<module>\u001b[1;34m\u001b[0m\n\u001b[0;32m     23\u001b[0m \u001b[0mn\u001b[0m \u001b[1;33m=\u001b[0m \u001b[0mlen\u001b[0m\u001b[1;33m(\u001b[0m\u001b[0mstring\u001b[0m\u001b[1;33m)\u001b[0m\u001b[1;33m\u001b[0m\u001b[1;33m\u001b[0m\u001b[0m\n\u001b[0;32m     24\u001b[0m \u001b[0ma\u001b[0m \u001b[1;33m=\u001b[0m \u001b[0mlist\u001b[0m\u001b[1;33m(\u001b[0m\u001b[0mstring\u001b[0m\u001b[1;33m)\u001b[0m\u001b[1;33m\u001b[0m\u001b[1;33m\u001b[0m\u001b[0m\n\u001b[1;32m---> 25\u001b[1;33m \u001b[0mpermute\u001b[0m\u001b[1;33m(\u001b[0m\u001b[0ma\u001b[0m\u001b[1;33m,\u001b[0m \u001b[1;36m0\u001b[0m\u001b[1;33m,\u001b[0m \u001b[0mn\u001b[0m\u001b[1;33m-\u001b[0m\u001b[1;36m1\u001b[0m\u001b[1;33m)\u001b[0m\u001b[1;33m\u001b[0m\u001b[1;33m\u001b[0m\u001b[0m\n\u001b[0m\u001b[0;32m     26\u001b[0m \u001b[0ml\u001b[0m\u001b[1;33m\u001b[0m\u001b[1;33m\u001b[0m\u001b[0m\n\u001b[0;32m     27\u001b[0m \u001b[1;31m# This code is contributed by Bhavya Jain\u001b[0m\u001b[1;33m\u001b[0m\u001b[1;33m\u001b[0m\u001b[1;33m\u001b[0m\u001b[0m\n",
      "\u001b[1;32m<ipython-input-14-3e72188fe912>\u001b[0m in \u001b[0;36mpermute\u001b[1;34m(a, l, r)\u001b[0m\n\u001b[0;32m     14\u001b[0m         \u001b[0mprint\u001b[0m \u001b[1;33m(\u001b[0m\u001b[0mtoString\u001b[0m\u001b[1;33m(\u001b[0m\u001b[0ma\u001b[0m\u001b[1;33m)\u001b[0m\u001b[1;33m)\u001b[0m\u001b[1;33m\u001b[0m\u001b[1;33m\u001b[0m\u001b[0m\n\u001b[0;32m     15\u001b[0m     \u001b[1;32melse\u001b[0m\u001b[1;33m:\u001b[0m\u001b[1;33m\u001b[0m\u001b[1;33m\u001b[0m\u001b[0m\n\u001b[1;32m---> 16\u001b[1;33m         \u001b[1;32mfor\u001b[0m \u001b[0mi\u001b[0m \u001b[1;32min\u001b[0m \u001b[0mxrange\u001b[0m\u001b[1;33m(\u001b[0m\u001b[0ml\u001b[0m\u001b[1;33m,\u001b[0m \u001b[0mr\u001b[0m \u001b[1;33m+\u001b[0m \u001b[1;36m1\u001b[0m\u001b[1;33m)\u001b[0m\u001b[1;33m:\u001b[0m\u001b[1;33m\u001b[0m\u001b[1;33m\u001b[0m\u001b[0m\n\u001b[0m\u001b[0;32m     17\u001b[0m             \u001b[0ma\u001b[0m\u001b[1;33m[\u001b[0m\u001b[0ml\u001b[0m\u001b[1;33m]\u001b[0m\u001b[1;33m,\u001b[0m \u001b[0ma\u001b[0m\u001b[1;33m[\u001b[0m\u001b[0mi\u001b[0m\u001b[1;33m]\u001b[0m \u001b[1;33m=\u001b[0m \u001b[0ma\u001b[0m\u001b[1;33m[\u001b[0m\u001b[0mi\u001b[0m\u001b[1;33m]\u001b[0m\u001b[1;33m,\u001b[0m \u001b[0ma\u001b[0m\u001b[1;33m[\u001b[0m\u001b[0ml\u001b[0m\u001b[1;33m]\u001b[0m\u001b[1;33m\u001b[0m\u001b[1;33m\u001b[0m\u001b[0m\n\u001b[0;32m     18\u001b[0m             \u001b[0mpermute\u001b[0m\u001b[1;33m(\u001b[0m\u001b[0ma\u001b[0m\u001b[1;33m,\u001b[0m \u001b[0ml\u001b[0m \u001b[1;33m+\u001b[0m \u001b[1;36m1\u001b[0m\u001b[1;33m,\u001b[0m \u001b[0mr\u001b[0m\u001b[1;33m)\u001b[0m\u001b[1;33m\u001b[0m\u001b[1;33m\u001b[0m\u001b[0m\n",
      "\u001b[1;31mNameError\u001b[0m: name 'xrange' is not defined"
     ]
    }
   ],
   "source": [
    "# Python program to print all permutations with \n",
    "# duplicates allowed \n",
    "  \n",
    "def toString(List): \n",
    "    return ''.join(List) \n",
    "  \n",
    "# Function to print permutations of string \n",
    "# This function takes three parameters: \n",
    "# 1. String \n",
    "# 2. Starting index of the string \n",
    "# 3. Ending index of the string. \n",
    "def permute(a, l, r): \n",
    "    if l == r: \n",
    "        print (toString(a)) \n",
    "    else: \n",
    "        for i in xrange(l, r + 1): \n",
    "            a[l], a[i] = a[i], a[l] \n",
    "            permute(a, l + 1, r) \n",
    "            a[l], a[i] = a[i], a[l] # backtrack \n",
    "  \n",
    "# Driver program to test the above function \n",
    "string = \"ABC\"\n",
    "n = len(string) \n",
    "a = list(string) \n",
    "permute(a, 0, n-1) \n",
    "l\n",
    "# This code is contributed by Bhavya Jain "
   ]
  },
  {
   "cell_type": "code",
   "execution_count": 18,
   "metadata": {},
   "outputs": [
    {
     "ename": "NameError",
     "evalue": "name 'file' is not defined",
     "output_type": "error",
     "traceback": [
      "\u001b[1;31m---------------------------------------------------------------------------\u001b[0m",
      "\u001b[1;31mNameError\u001b[0m                                 Traceback (most recent call last)",
      "\u001b[1;32m<ipython-input-18-f6a6d92675fb>\u001b[0m in \u001b[0;36m<module>\u001b[1;34m\u001b[0m\n\u001b[0;32m     25\u001b[0m \u001b[1;33m\u001b[0m\u001b[0m\n\u001b[0;32m     26\u001b[0m \u001b[1;32mif\u001b[0m \u001b[0m__name__\u001b[0m \u001b[1;33m==\u001b[0m \u001b[1;34m'__main__'\u001b[0m\u001b[1;33m:\u001b[0m\u001b[1;33m\u001b[0m\u001b[1;33m\u001b[0m\u001b[0m\n\u001b[1;32m---> 27\u001b[1;33m     \u001b[0mwords\u001b[0m \u001b[1;33m=\u001b[0m \u001b[0mget_words\u001b[0m\u001b[1;33m(\u001b[0m\u001b[0mfile\u001b[0m\u001b[1;33m(\u001b[0m\u001b[0mdictfile\u001b[0m\u001b[1;33m)\u001b[0m\u001b[1;33m.\u001b[0m\u001b[0mread\u001b[0m\u001b[1;33m(\u001b[0m\u001b[1;33m)\u001b[0m\u001b[1;33m)\u001b[0m\u001b[1;33m\u001b[0m\u001b[1;33m\u001b[0m\u001b[0m\n\u001b[0m\u001b[0;32m     28\u001b[0m     \u001b[1;32mif\u001b[0m \u001b[0mlen\u001b[0m\u001b[1;33m(\u001b[0m\u001b[0msys\u001b[0m\u001b[1;33m.\u001b[0m\u001b[0margv\u001b[0m\u001b[1;33m)\u001b[0m \u001b[1;33m!=\u001b[0m \u001b[1;36m2\u001b[0m\u001b[1;33m:\u001b[0m\u001b[1;33m\u001b[0m\u001b[1;33m\u001b[0m\u001b[0m\n\u001b[0;32m     29\u001b[0m         \u001b[0mprint\u001b[0m \u001b[1;33m(\u001b[0m\u001b[1;34m\"Incorrect Format. Type like\"\u001b[0m\u001b[1;33m)\u001b[0m\u001b[1;33m\u001b[0m\u001b[1;33m\u001b[0m\u001b[0m\n",
      "\u001b[1;31mNameError\u001b[0m: name 'file' is not defined"
     ]
    }
   ],
   "source": [
    "import sys\n",
    "\n",
    "dictfile = \"dictionary.txt\"\n",
    "\n",
    "def get_words(text):\n",
    "    \"\"\" Return a list of dict words \"\"\"\n",
    "    return text.split()\n",
    "\n",
    "\n",
    "def get_possible_words(words,jword):\n",
    "    \"\"\" Return a list of possible solutions \"\"\"\n",
    "    possible_words = []\n",
    "    jword_length = len(jword)\n",
    "    for word in words:\n",
    "        jumbled_word = jword\n",
    "        if len(word) == jword_length:\n",
    "            letters = list(word)\n",
    "            for letter in letters:\n",
    "                if jumbled_word.find(letter) != -1:\n",
    "                    jumbled_word = jumbled_word.replace(letter,'',1)\n",
    "            if not jumbled_word:\n",
    "                possible_words.append(word)\n",
    "    return possible_words       \n",
    "\n",
    "\n",
    "if __name__ == '__main__':\n",
    "    words = get_words(file(dictfile).read())\n",
    "    if len(sys.argv) != 2:\n",
    "        print (\"Incorrect Format. Type like\")\n",
    "        print (\"python %s <jumbled word>\" % sys.argv[0])\n",
    "        sys.exit()\n",
    "    jumbled_word = sys.argv[1]\n",
    "    words = get_possible_words(words,jumbled_word)\n",
    "    print (\"possible words :\")\n",
    "    print ('\\n'.join(words))"
   ]
  },
  {
   "cell_type": "code",
   "execution_count": 23,
   "metadata": {},
   "outputs": [
    {
     "name": "stdout",
     "output_type": "stream",
     "text": [
      "[]\n",
      "[]\n",
      "[]\n",
      "[]\n"
     ]
    }
   ],
   "source": [
    "def build_table(wordlist):\n",
    "    table = {}\n",
    "    for word in wordlist:\n",
    "        key = ''.join(sorted(word))\n",
    "        table.setdefault(key, []).append(word)\n",
    "    return table\n",
    "\n",
    "def lookup(jumble, table):\n",
    "    key = ''.join(sorted(jumble))\n",
    "    return table.get(key, [])\n",
    "\n",
    "if __name__ == '__main__':\n",
    "\n",
    "    # Build table\n",
    "    with open('moo.txt') as f:\n",
    "        wordlist = f.read().lower().split()\n",
    "    table = build_table(wordlist)\n",
    "\n",
    "    # Solve some jumbles\n",
    "    for jumble in ['tesb', 'amgaarn', 'lehsffu', 'tmirlohag']:\n",
    "        print(lookup(jumble, table))"
   ]
  },
  {
   "cell_type": "code",
   "execution_count": null,
   "metadata": {},
   "outputs": [],
   "source": []
  }
 ],
 "metadata": {
  "kernelspec": {
   "display_name": "Python 3",
   "language": "python",
   "name": "python3"
  },
  "language_info": {
   "codemirror_mode": {
    "name": "ipython",
    "version": 3
   },
   "file_extension": ".py",
   "mimetype": "text/x-python",
   "name": "python",
   "nbconvert_exporter": "python",
   "pygments_lexer": "ipython3",
   "version": "3.8.5"
  }
 },
 "nbformat": 4,
 "nbformat_minor": 4
}
